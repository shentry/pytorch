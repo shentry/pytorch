{
 "cells": [
  {
   "cell_type": "markdown",
   "source": [
    "dir():打开操作,知道有什么东西\n",
    "help():说明书，知道怎么使用"
   ],
   "metadata": {
    "collapsed": false
   }
  },
  {
   "cell_type": "markdown",
   "source": [
    "Dataset:如何去获取可用数据，并且完成标签\n",
    "Dataloader：为网络提供不同的数据形式"
   ],
   "metadata": {
    "collapsed": false
   }
  },
  {
   "cell_type": "code",
   "execution_count": null,
   "outputs": [],
   "source": [
    "!pip install opencv-python"
   ],
   "metadata": {
    "collapsed": false,
    "pycharm": {
     "is_executing": true
    }
   }
  },
  {
   "cell_type": "code",
   "execution_count": 7,
   "outputs": [
    {
     "ename": "IndentationError",
     "evalue": "expected an indented block (1717167597.py, line 8)",
     "output_type": "error",
     "traceback": [
      "\u001B[1;36m  Cell \u001B[1;32mIn [7], line 8\u001B[1;36m\u001B[0m\n\u001B[1;33m    def__getitem__(self,idx):\u001B[0m\n\u001B[1;37m    ^\u001B[0m\n\u001B[1;31mIndentationError\u001B[0m\u001B[1;31m:\u001B[0m expected an indented block\n"
     ]
    }
   ],
   "source": [
    "from PIL.TiffImagePlugin import idx\n",
    "from torch.utils.data import Dataset\n",
    "from PIL import Image\n",
    "import os\n",
    "root_dir = 'dataset/train'\n",
    "label_dir = \"ants\"\n",
    "class MyData(Dataset):\n",
    "    def __init__(self,root_dir,label_dir):\n",
    "        self.root_dir = 'dataset/train'\n",
    "        self.label_dir = \"ants\"  # 定义路径\n",
    "        self.path = os.path.join(self.root_dir,self.label_dir) #将ants路径搞出来\n",
    "        self.img_path = os.listdir(self.path) #将数据转换为列表\n",
    "    def__getitem__(self,idx):  #处理单个图片数据\n",
    "        img_name = self.path[idx]\n",
    "        img_item_path = os.path.join(self.root_dir,self.label_dir,img_name)\n",
    "        img = Image.open(img_item_path)\n",
    "        label =  self.label_dir\n",
    "        return img,label  #返回图片和标签\n",
    "    def __len__(self):\n",
    "        return len(self.img_path)\n",
    "root_dir = \"dataset/train\"\n",
    "ants_label_dir = \"ants\"\n",
    "ants_dataset = MyData(root_dir,ants_label_dir)\n",
    "bees_label_dir = \"bees\"\n",
    "bees_dataset = MyData(root_dir,bees_label_dir)\n",
    "\n",
    "trian_dataset = ants_dataset + bees_dataset #对两个数据集进行拼接\n",
    "\n",
    "\n",
    "\n"
   ],
   "metadata": {
    "collapsed": false
   }
  },
  {
   "cell_type": "code",
   "execution_count": null,
   "outputs": [],
   "source": [],
   "metadata": {
    "collapsed": false
   }
  },
  {
   "cell_type": "code",
   "execution_count": null,
   "outputs": [],
   "source": [],
   "metadata": {
    "collapsed": false
   }
  }
 ],
 "metadata": {
  "kernelspec": {
   "display_name": "Python 3",
   "language": "python",
   "name": "python3"
  },
  "language_info": {
   "codemirror_mode": {
    "name": "ipython",
    "version": 2
   },
   "file_extension": ".py",
   "mimetype": "text/x-python",
   "name": "python",
   "nbconvert_exporter": "python",
   "pygments_lexer": "ipython2",
   "version": "2.7.6"
  }
 },
 "nbformat": 4,
 "nbformat_minor": 0
}
