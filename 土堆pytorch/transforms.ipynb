{
 "cells": [
  {
   "cell_type": "markdown",
   "source": [
    "transforms.py像一个工具箱\n",
    "把一些数据类型转换为tensor，拿一些特定类型的图片经过转换之后会输出一个结果\n"
   ],
   "metadata": {
    "collapsed": false
   }
  },
  {
   "cell_type": "markdown",
   "source": [
    "tensor数据类型\n",
    "ToTenser"
   ],
   "metadata": {
    "collapsed": false
   }
  },
  {
   "cell_type": "code",
   "execution_count": 4,
   "metadata": {
    "collapsed": true
   },
   "outputs": [
    {
     "name": "stdout",
     "output_type": "stream",
     "text": [
      "<PIL.JpegImagePlugin.JpegImageFile image mode=RGB size=500x333 at 0x1F7ED11BF10>\n"
     ]
    }
   ],
   "source": [
    "from PIL import Image\n",
    "from torchvision import transforms\n",
    "img_path = \"dataset/train/ants/7759525_1363d24e88.jpg\"\n",
    "img = Image.open(img_path)\n",
    "print(img)"
   ]
  },
  {
   "cell_type": "markdown",
   "source": [
    "### transforms如何使用\n",
    "先创建一个工具，如tool = transforms.ToTensor()， result = tool(input),result就是输出"
   ],
   "metadata": {
    "collapsed": false
   }
  },
  {
   "cell_type": "code",
   "execution_count": 11,
   "outputs": [],
   "source": [
    "from torch.utils.tensorboard import SummaryWriter\n",
    "\n",
    "writer = SummaryWriter(\"logs\")\n",
    "\n",
    "\n",
    "tensor_trans = transforms.ToTensor()\n",
    "tensor_img = tensor_trans(img)\n",
    "\n",
    "writer.add_image(\"Tensor_img\",tensor_img)\n",
    "\n",
    "writer.close()"
   ],
   "metadata": {
    "collapsed": false
   }
  },
  {
   "cell_type": "markdown",
   "source": [],
   "metadata": {
    "collapsed": false
   }
  },
  {
   "cell_type": "markdown",
   "source": [
    "为什么需要tensor的数据类型\n",
    "包装了在神经网络中所需要的参数\n"
   ],
   "metadata": {
    "collapsed": false
   }
  },
  {
   "cell_type": "code",
   "execution_count": null,
   "outputs": [],
   "source": [
    "import cv2\n",
    "cv_img = cv2.imread(img_path) #cv读进的是numpy类型"
   ],
   "metadata": {
    "collapsed": false
   }
  },
  {
   "cell_type": "markdown",
   "source": [
    "### 常见的transforms\n",
    "*输入 PIL tensor narrays\n",
    "*输出\n",
    "*作用\n"
   ],
   "metadata": {
    "collapsed": false
   }
  },
  {
   "cell_type": "code",
   "execution_count": 12,
   "outputs": [
    {
     "name": "stdout",
     "output_type": "stream",
     "text": [
      "<PIL.JpegImagePlugin.JpegImageFile image mode=RGB size=500x333 at 0x1F7ED11B850>\n"
     ]
    }
   ],
   "source": [
    "img = Image.open(\"dataset/train/ants/7759525_1363d24e88.jpg\")\n",
    "print(img)"
   ],
   "metadata": {
    "collapsed": false
   }
  },
  {
   "cell_type": "code",
   "execution_count": 16,
   "outputs": [],
   "source": [
    "trans_totensor = transforms.ToTensor()\n",
    "img_tensor = trans_totensor(img)\n",
    "writer.add_image(\"ToTensor\",img_tensor)\n"
   ],
   "metadata": {
    "collapsed": false
   }
  },
  {
   "cell_type": "markdown",
   "source": [
    "Normalize 输入必须是tensor的img，给如均值和标准差，能将输入的图片进行归一化。\n",
    "output[channel] = (input[channel] - mean[channel]) / std[channel]\n"
   ],
   "metadata": {
    "collapsed": false
   }
  },
  {
   "cell_type": "code",
   "execution_count": 17,
   "outputs": [],
   "source": [
    "trans_norm = transforms.Normalize([0.5,0.5,0.5],[0.5,0.5,0.5])\n",
    "img_nor = trans_norm(img_tensor)\n"
   ],
   "metadata": {
    "collapsed": false
   }
  },
  {
   "cell_type": "markdown",
   "source": [
    "Resize 进行等比缩放"
   ],
   "metadata": {
    "collapsed": false
   }
  },
  {
   "cell_type": "code",
   "execution_count": 23,
   "outputs": [
    {
     "name": "stdout",
     "output_type": "stream",
     "text": [
      "(500, 333)\n",
      "tensor([[[0.8863, 0.8824, 0.8745,  ..., 0.8392, 0.8392, 0.8392],\n",
      "         [0.8824, 0.8784, 0.8706,  ..., 0.8392, 0.8392, 0.8392],\n",
      "         [0.8784, 0.8745, 0.8667,  ..., 0.8353, 0.8353, 0.8353],\n",
      "         ...,\n",
      "         [1.0000, 1.0000, 1.0000,  ..., 0.8314, 0.8314, 0.8314],\n",
      "         [1.0000, 1.0000, 1.0000,  ..., 0.8314, 0.8314, 0.8314],\n",
      "         [1.0000, 1.0000, 1.0000,  ..., 0.8314, 0.8314, 0.8314]],\n",
      "\n",
      "        [[0.1451, 0.1412, 0.1333,  ..., 0.8471, 0.8471, 0.8471],\n",
      "         [0.1451, 0.1412, 0.1333,  ..., 0.8471, 0.8471, 0.8471],\n",
      "         [0.1490, 0.1451, 0.1373,  ..., 0.8431, 0.8431, 0.8431],\n",
      "         ...,\n",
      "         [0.8275, 0.8275, 0.8275,  ..., 0.8549, 0.8549, 0.8549],\n",
      "         [0.8275, 0.8275, 0.8275,  ..., 0.8549, 0.8549, 0.8549],\n",
      "         [0.8275, 0.8275, 0.8275,  ..., 0.8549, 0.8549, 0.8549]],\n",
      "\n",
      "        [[0.1686, 0.1647, 0.1569,  ..., 0.4275, 0.4275, 0.4275],\n",
      "         [0.1686, 0.1647, 0.1569,  ..., 0.4275, 0.4275, 0.4275],\n",
      "         [0.1686, 0.1647, 0.1569,  ..., 0.4235, 0.4235, 0.4235],\n",
      "         ...,\n",
      "         [0.0078, 0.0078, 0.0078,  ..., 0.4235, 0.4235, 0.4235],\n",
      "         [0.0078, 0.0078, 0.0078,  ..., 0.4235, 0.4235, 0.4235],\n",
      "         [0.0078, 0.0078, 0.0078,  ..., 0.4235, 0.4235, 0.4235]]])\n"
     ]
    }
   ],
   "source": [
    "#Resize\n",
    "print(img.size)\n",
    "trans_resize = transforms.Resize((512,512))\n",
    "img_resize = trans_resize(img)\n",
    "img_resize = trans_totensor(img_resize)\n",
    "writer.add_image(\"Resize\",img_resize)\n",
    "print(img_resize)\n"
   ],
   "metadata": {
    "collapsed": false
   }
  },
  {
   "cell_type": "markdown",
   "source": [
    "compose resize -2 等比缩放 PIL->PIL->tensor"
   ],
   "metadata": {
    "collapsed": false
   }
  },
  {
   "cell_type": "code",
   "execution_count": 26,
   "outputs": [],
   "source": [
    "trans_resize_2 = transforms.Resize(512)\n",
    "trans_compose = transforms.Compose([trans_resize_2,trans_totensor])\n",
    "img_resize_2 = trans_compose(img)\n",
    "writer.add_image(\"Resize\",img_resize_2,1)"
   ],
   "metadata": {
    "collapsed": false
   }
  },
  {
   "cell_type": "markdown",
   "source": [
    "RandomCrop 随机裁剪"
   ],
   "metadata": {
    "collapsed": false
   }
  },
  {
   "cell_type": "code",
   "execution_count": null,
   "outputs": [],
   "source": [
    "trans_random = transforms.RandomCrop(512)\n",
    "trans_compose_2 = transforms.Compose([trans_random,trans_totensor])\n",
    "for i in range(10):\n",
    "    img_crop = trans_compose_2(img)\n"
   ],
   "metadata": {
    "collapsed": false
   }
  },
  {
   "cell_type": "markdown",
   "source": [
    "总结使用方法：\n",
    "    首先要注意输入输出类型\n",
    "    多看官方文档\n",
    "    关注参数需要什么参数\n",
    "    不知道输出什么类型直接print() print(type())\n"
   ],
   "metadata": {
    "collapsed": false
   }
  },
  {
   "cell_type": "code",
   "execution_count": null,
   "outputs": [],
   "source": [],
   "metadata": {
    "collapsed": false
   }
  }
 ],
 "metadata": {
  "kernelspec": {
   "display_name": "Python 3",
   "language": "python",
   "name": "python3"
  },
  "language_info": {
   "codemirror_mode": {
    "name": "ipython",
    "version": 2
   },
   "file_extension": ".py",
   "mimetype": "text/x-python",
   "name": "python",
   "nbconvert_exporter": "python",
   "pygments_lexer": "ipython2",
   "version": "2.7.6"
  }
 },
 "nbformat": 4,
 "nbformat_minor": 0
}
