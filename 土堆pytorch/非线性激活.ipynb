{
 "cells": [
  {
   "cell_type": "markdown",
   "source": [
    "## ReLU"
   ],
   "metadata": {
    "collapsed": false
   }
  },
  {
   "cell_type": "code",
   "execution_count": 3,
   "metadata": {
    "collapsed": true
   },
   "outputs": [
    {
     "name": "stdout",
     "output_type": "stream",
     "text": [
      "tensor([[[[1., 0.],\n",
      "          [0., 3.]]]])\n"
     ]
    }
   ],
   "source": [
    "from torch.nn import ReLU\n",
    "from torch import nn\n",
    "import torch\n",
    "input = torch.tensor([[1,-0.5]\n",
    "                      ,[-1,3]])\n",
    "input = torch.reshape(input,(-1,1,2,2))\n",
    "class relu(nn.Module):\n",
    "    def __init__(self):\n",
    "        super(relu, self).__init__()\n",
    "        self.relu1 = ReLU()\n",
    "    def forward(self,input):\n",
    "        output = self.relu1(input)\n",
    "        return output\n",
    "relu1 = relu()\n",
    "input = relu1(input)\n",
    "print(input)\n",
    "\n"
   ]
  },
  {
   "cell_type": "markdown",
   "source": [
    "ReLU函数就是当x小于0时输出0，大于0时输出x的原来的值\n",
    "![jupyter](./img/img_11.png)\n",
    "relu 中有个参数inplace ( bool ) – 可以选择就地执行操作。默认：False，如果是True 就会对原来的输入进行就地更改"
   ],
   "metadata": {
    "collapsed": false
   }
  },
  {
   "cell_type": "markdown",
   "source": [
    "## sigmoid"
   ],
   "metadata": {
    "collapsed": false
   }
  },
  {
   "cell_type": "code",
   "execution_count": 4,
   "outputs": [
    {
     "name": "stdout",
     "output_type": "stream",
     "text": [
      "Files already downloaded and verified\n"
     ]
    }
   ],
   "source": [
    "from torch.utils.data import DataLoader\n",
    "import torchvision\n",
    "\n",
    "dataset = torchvision.datasets.CIFAR10('dataset',train=False,download =True,\n",
    "                                       transform=torchvision.transforms.ToTensor())\n",
    "dataloader = DataLoader(dataset,batch_size=64)\n"
   ],
   "metadata": {
    "collapsed": false
   }
  },
  {
   "cell_type": "code",
   "execution_count": 14,
   "outputs": [],
   "source": [
    "from torch.utils.tensorboard import SummaryWriter\n",
    "from torch.nn import Sigmoid\n",
    "\n",
    "\n",
    "class sigmoid1(nn.Module):\n",
    "    def __init__(self):\n",
    "        super(sigmoid1,self).__init__()\n",
    "        self.sigmoid0 = Sigmoid()\n",
    "    def forward(self,input):\n",
    "        output = self.sigmoid0(input)\n",
    "        return output\n",
    "Sigmoid = sigmoid1()\n",
    "writer = SummaryWriter('sigmoid1')\n",
    "step = 0\n",
    "for data1 in dataloader:\n",
    "    imgs,targets = data1\n",
    "    writer.add_images('input',imgs,step)\n",
    "    output = Sigmoid(imgs)\n",
    "    writer.add_images('output',output,step)\n",
    "    step = step + 1\n",
    "\n",
    "writer.close()"
   ],
   "metadata": {
    "collapsed": false
   }
  },
  {
   "cell_type": "markdown",
   "source": [
    "非线性变换为了增强他的泛化能力\n",
    "![jupyter](./img/img_12.png)          ![jupyter](./img/img_13.png)"
   ],
   "metadata": {
    "collapsed": false
   }
  },
  {
   "cell_type": "code",
   "execution_count": null,
   "outputs": [],
   "source": [],
   "metadata": {
    "collapsed": false
   }
  }
 ],
 "metadata": {
  "kernelspec": {
   "display_name": "Python 3",
   "language": "python",
   "name": "python3"
  },
  "language_info": {
   "codemirror_mode": {
    "name": "ipython",
    "version": 2
   },
   "file_extension": ".py",
   "mimetype": "text/x-python",
   "name": "python",
   "nbconvert_exporter": "python",
   "pygments_lexer": "ipython2",
   "version": "2.7.6"
  }
 },
 "nbformat": 4,
 "nbformat_minor": 0
}
